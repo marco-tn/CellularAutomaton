{
 "cells": [
  {
   "cell_type": "code",
   "execution_count": 2,
   "metadata": {
    "collapsed": false
   },
   "outputs": [
    {
     "data": {
      "text/plain": [
       "<module 'numpy' from '/Users/nishioka/anaconda3/lib/python3.6/site-packages/numpy/__init__.py'>"
      ]
     },
     "execution_count": 2,
     "metadata": {},
     "output_type": "execute_result"
    }
   ],
   "source": [
    "require \"zlib\"\n",
    "def show(image)\n",
    " def chunk(type, data)\n",
    "   [data.bytesize, type, data, Zlib.crc32(type + data)].pack(\"NA4A*N\")\n",
    " end\n",
    " def make_png(raw_data)\n",
    "   height = raw_data.size\n",
    "   width = raw_data[0].size\n",
    "   s = \"\\x89PNG\\r\\n\\x1a\\n\".force_encoding(\"ascii-8bit\")\n",
    "   s1 = chunk(\"IHDR\", [width, height, 8, 2, 0, 0, 0].pack(\"NNCCCCC\"))\n",
    "   s2 = chunk(\"IDAT\", Zlib::Deflate.deflate(raw_data.map {|line|\n",
    "                        ([0] + line.flatten).pack(\"C*\") }.join))\n",
    "   s3 = chunk(\"IEND\", \"\")\n",
    "   s + s1 + s2 + s3\n",
    " end\n",
    " def to_8bit(c)\n",
    "   if c.is_a?(Array)\n",
    "     if c[0].is_a?(Numeric)\n",
    "       c.map{|e| (e * 255).to_i }\n",
    "     else\n",
    "       raise \"show(): bad array element \" + c.to_s\n",
    "     end\n",
    "   else\n",
    "     [(c * 255).to_i] * 3\n",
    "   end\n",
    " end\n",
    " if !image.is_a?(Array)\n",
    "   puts \"show(): not an array\" ; false\n",
    " else\n",
    "   if !image[0].is_a?(Array)\n",
    "     image = [image]\n",
    "   end\n",
    "   h = image.size\n",
    "   s = h < 10 ? 20 : h < 60 ? 10 : h < 400 ? 400 / h : 1\n",
    "   data = image.flat_map{|r| [r.flat_map{|c| [to_8bit(c)] * s }] * s}\n",
    "   IRuby.display make_png(data), mime: \"image/png\" ; true\n",
    " end\n",
    "end\n",
    "\n",
    "def make2d(height, width)\n",
    "  Array.new(height){ Array.new(width, 0) }\n",
    "end\n",
    "\n",
    "require 'numpy'\n",
    "np = Numpy"
   ]
  },
  {
   "cell_type": "markdown",
   "metadata": {},
   "source": [
    "## 一次元セル・オートマトン　図"
   ]
  },
  {
   "cell_type": "code",
   "execution_count": 3,
   "metadata": {
    "collapsed": false
   },
   "outputs": [
    {
     "data": {
      "text/plain": [
       ":rule"
      ]
     },
     "execution_count": 3,
     "metadata": {},
     "output_type": "execute_result"
    }
   ],
   "source": [
    "def rule(rule,r,t)#t=隣接したセルの状態r桁2進法表記 \n",
    "   def p(rule,r)#rule(10進法)の2**r桁2進法表記\n",
    "    sprintf(\"%0*b\",2**r,rule)\n",
    "    \"%0*b\" % [2**r, rule]\n",
    "   end \n",
    "    p(rule,r)[t.to_i(2)].to_i\n",
    "end"
   ]
  },
  {
   "cell_type": "code",
   "execution_count": 4,
   "metadata": {
    "collapsed": false
   },
   "outputs": [
    {
     "data": {
      "text/plain": [
       ":automaton"
      ]
     },
     "execution_count": 4,
     "metadata": {},
     "output_type": "execute_result"
    }
   ],
   "source": [
    "def automaton(rule,r)\n",
    "  size = 15\n",
    "  image=make2d(1,size+1)\n",
    "  image[0][size/2]=1\n",
    "  y=1\n",
    "  while image=image+make2d(1,size+1) do\n",
    "    for x in 0..(size-1)\n",
    "      if r%2 == 0\n",
    "        if x -r/2 >= 0 && x-1+r/2 <=size-1\n",
    "          image[y][x]=rule(rule,r,image[y-1][x-r/2..x-1+r/2].join)\n",
    "        elsif !(x -r/2 >= 0)\n",
    "          image[y][x]=rule(rule,r,(image[y-1][x-r/2+size..size-1]+image[y-1][0..x-1+r/2]).join)\n",
    "        elsif !(x-1+r/2 <=size-1)\n",
    "          image[y][x]=rule(rule,r,(image[y-1][x-r/2..size-1]+image[y-1][0..x-1+r/2-size]).join)\n",
    "        end\n",
    "      elsif r%2 == 1\n",
    "        if x -(r-1)/2 >= 0 && x+(r-1)/2 <=size-1\n",
    "          image[y][x]=rule(rule,r,image[y-1][x-(r-1)/2..x+(r-1)/2].join)\n",
    "        elsif !(x -(r-1)/2 >= 0)\n",
    "          image[y][x]=rule(rule,r,(image[y-1][x-(r-1)/2+size..size-1]+image[y-1][0..x+(r-1)/2]).join)\n",
    "        elsif !(x+(r-1)/2 <=size-1)\n",
    "          image[y][x]=rule(rule,r,(image[y-1][x-(r-1)/2..size-1]+image[y-1][0..x+(r-1)/2-size]).join)\n",
    "        end\n",
    "      end\n",
    "    end\n",
    "    a = 0\n",
    "    while a<y\n",
    "      if image[y]==image[a] then\n",
    "        image[a][size]=[0,1,0]\n",
    "        image[y][size]=[0,1,0]\n",
    "        show(image)\n",
    "        puts(\"周期的になるまで\"+(a).to_s+\"ステップ\")\n",
    "        puts(\"周期\"+(y-a).to_s)\n",
    "        return\n",
    "      else\n",
    "       a=a+1\n",
    "      end\n",
    "    end\n",
    "    y=y+1\n",
    "  end\n",
    "end"
   ]
  },
  {
   "cell_type": "markdown",
   "metadata": {},
   "source": [
    "## 周期的になるまでのステップ"
   ]
  },
  {
   "cell_type": "code",
   "execution_count": 5,
   "metadata": {
    "collapsed": false
   },
   "outputs": [
    {
     "data": {
      "text/plain": [
       ":aaa"
      ]
     },
     "execution_count": 5,
     "metadata": {},
     "output_type": "execute_result"
    }
   ],
   "source": [
    "def automatona(rule,r)\n",
    "  size = 15\n",
    "  image=make2d(1,size+1)\n",
    "  image[0][size/2]=1\n",
    "  y=1\n",
    "  while image=image+make2d(1,size+1) do\n",
    "    for x in 0..(size-1)\n",
    "      if r%2 == 0\n",
    "        if x -r/2 >= 0 && x-1+r/2 <=size-1\n",
    "          image[y][x]=rule(rule,r,image[y-1][x-r/2..x-1+r/2].join)\n",
    "        elsif !(x -r/2 >= 0)\n",
    "          image[y][x]=rule(rule,r,(image[y-1][x-r/2+size..size-1]+image[y-1][0..x-1+r/2]).join)\n",
    "        elsif !(x-1+r/2 <=size-1)\n",
    "          image[y][x]=rule(rule,r,(image[y-1][x-r/2..size-1]+image[y-1][0..x-1+r/2-size]).join)\n",
    "        end\n",
    "      elsif r%2 == 1\n",
    "        if x -(r-1)/2 >= 0 && x+(r-1)/2 <=size-1\n",
    "          image[y][x]=rule(rule,r,image[y-1][x-(r-1)/2..x+(r-1)/2].join)\n",
    "        elsif !(x -(r-1)/2 >= 0)\n",
    "          image[y][x]=rule(rule,r,(image[y-1][x-(r-1)/2+size..size-1]+image[y-1][0..x+(r-1)/2]).join)\n",
    "        elsif !(x+(r-1)/2 <=size-1)\n",
    "          image[y][x]=rule(rule,r,(image[y-1][x-(r-1)/2..size-1]+image[y-1][0..x+(r-1)/2-size]).join)\n",
    "        end\n",
    "      end\n",
    "    end\n",
    "    a = 0\n",
    "    while a<y\n",
    "      if image[y]==image[a] then\n",
    "        return a\n",
    "      else\n",
    "       a=a+1\n",
    "      end\n",
    "    end\n",
    "    y=y+1\n",
    "  end\n",
    "end\n",
    "def a(r)\n",
    "  g = Array.new(2**2**r)\n",
    "  np = Numpy\n",
    "  for i in 0..2**2**r-1\n",
    "    g[i] = automatona(i,r)\n",
    "  end\n",
    "  np.mean(g)\n",
    "end\n",
    "def aa(r)\n",
    "  h = Array.new(10000)\n",
    "  np = Numpy\n",
    "  random = Random.new\n",
    "  for i in 0..9999\n",
    "    h[i] = automatona(random.rand(0..2**2**r-1),r)\n",
    "  end\n",
    "  np.mean(h)\n",
    "end\n",
    "def aaa(r)\n",
    "  h = Array.new(10000)\n",
    "  np = Numpy\n",
    "  random = Random.new\n",
    "  for i in 0..9999\n",
    "    h[i] = automatona(random.rand(0..2**2**r-1),r)\n",
    "  end\n",
    "  np.std(h)\n",
    "end"
   ]
  },
  {
   "cell_type": "markdown",
   "metadata": {},
   "source": [
    "## 周期"
   ]
  },
  {
   "cell_type": "code",
   "execution_count": 6,
   "metadata": {
    "collapsed": false
   },
   "outputs": [
    {
     "data": {
      "text/plain": [
       ":bb"
      ]
     },
     "execution_count": 6,
     "metadata": {},
     "output_type": "execute_result"
    }
   ],
   "source": [
    "def automatonb(rule,r)\n",
    "  size = 15\n",
    "  image=make2d(1,size+1)\n",
    "  image[0][size/2]=1\n",
    "  y=1\n",
    "  while image=image+make2d(1,size+1) do\n",
    "    for x in 0..(size-1)\n",
    "      if r%2 == 0\n",
    "        if x -r/2 >= 0 && x-1+r/2 <=size-1\n",
    "          image[y][x]=rule(rule,r,image[y-1][x-r/2..x-1+r/2].join)\n",
    "        elsif !(x -r/2 >= 0)\n",
    "          image[y][x]=rule(rule,r,(image[y-1][x-r/2+size..size-1]+image[y-1][0..x-1+r/2]).join)\n",
    "        elsif !(x-1+r/2 <=size-1)\n",
    "          image[y][x]=rule(rule,r,(image[y-1][x-r/2..size-1]+image[y-1][0..x-1+r/2-size]).join)\n",
    "        end\n",
    "      elsif r%2 == 1\n",
    "        if x -(r-1)/2 >= 0 && x+(r-1)/2 <=size-1\n",
    "          image[y][x]=rule(rule,r,image[y-1][x-(r-1)/2..x+(r-1)/2].join)\n",
    "        elsif !(x -(r-1)/2 >= 0)\n",
    "          image[y][x]=rule(rule,r,(image[y-1][x-(r-1)/2+size..size-1]+image[y-1][0..x+(r-1)/2]).join)\n",
    "        elsif !(x+(r-1)/2 <=size-1)\n",
    "          image[y][x]=rule(rule,r,(image[y-1][x-(r-1)/2..size-1]+image[y-1][0..x+(r-1)/2-size]).join)\n",
    "        end\n",
    "      end\n",
    "    end\n",
    "    a = 0\n",
    "    while a<y\n",
    "      if image[y]==image[a] then\n",
    "        return y-a\n",
    "      else\n",
    "       a=a+1\n",
    "      end\n",
    "    end\n",
    "    y=y+1\n",
    "  end\n",
    "end\n",
    "def b(r)\n",
    "  h = Array.new(2**2**r)\n",
    "  np = Numpy\n",
    "  for i in 0..2**2**r-1\n",
    "    h[i] = automatonb(i,r)\n",
    "  end\n",
    "  np.mean(h)\n",
    "end\n",
    "def bb(r)\n",
    "  h = Array.new(10000)\n",
    "  np = Numpy\n",
    "  random = Random.new\n",
    "  for i in 0..9999\n",
    "    h[i] = automatonb(random.rand(0..2**2**r-1),r)\n",
    "  end\n",
    "  np.mean(h)\n",
    "end"
   ]
  },
  {
   "cell_type": "code",
   "execution_count": 12,
   "metadata": {
    "collapsed": false,
    "scrolled": false
   },
   "outputs": [
    {
     "data": {
      "image/png": "[encoded data removed]",
      "text/plain": [
       "\"\\x89PNG\\r\\n\\x1A\\n\\x00\\x00\\x00\\rIHDR\\x00\\x00\\x00\\x10\\x00\\x00\\x01\\xC9\\b\\x02\\x00\\x00\\x00\\x03\\xD7.e\\x00\\x00\\x06\\xD1IDATx\\x9C\\x9D\\x95\\xCB\\xB6\\xED8\\f\\x02\\xF3\\xFF?\\xED\\x9E\\xDC\\xD5;\\x86\\x02)\\xC7\\xA3\\xC4vI\\x80\\xF6\\xE3yh\\x9Dsp\\xFF\\xDF\\x99\\xAC\\xE1\\bw\\xFF\\xC7V\\x80\\xE8\\xD9\\x02or\\x06D\\xD8\\xC5'\\xE0]\\xFE\\xF7p\\x16\\xC0*Yq\\x02\\xFC\\x86\\xD1\\xA1\\x8E\\xCC_\\xB4Yd\\x9B\\x94O\\x88\\x1C\\x19\\xB013\\xEC\\xA6|\\xC6\\x8E\\xE5]\\xFA\\\\\\x8EQn\\x04\\x8E\\xCD\\b\\xFB\\xC0\\xBB7\\xD1Mo\\xEA\\x0F\\xD73:sa\\xD7\\xE0:\\x03\\xD1\\x17\\x06GT\\xC7\\xF4\\xE9+\\xC1)\\xA5\\xC8\\x0FM\\x03\\f\\xA5&WJ\\x189\\xC6u\\xA1(:\\xC6u,r\\x8C\\xCB\\xE3\\xE5\\xDCx\\x17\\xED\\x82\\x93\\x0E\\b3\\x00\\xDEg\\xA5J\\x99\\xB7Dlr$%9+\\xC2\\xA0]\\x11\\xA6Xa\\xA0|gt\\x82'D\\x1E\\xDD\\x9F\\x10yt\\xEFB\\vs\\xD9\\x90L\\\"\\xF3n7\\xFA\\xD1\\x831\\xB7G_lqJ\\xDD%\\xA7\\x14\\x15\\xDF\\xCC\\xF5\\x8E\\x8A\\xBD\\x0F|\\xBC\\x931H\\xC9\\x19\\x9C\\xEC\\x8A\\x19\\xE2\\xC3\\xF2\\x1F\\xFA\\xF0\\xBD\\xC2\\xC0\\xE0J\\x9F\\x96\\x122\\x83\\xAA\\xC4@J\\xC5\\x0F\\x93\\xDE\\xDD\\x99\\xDB\\xCD\\xF4\\x95\\x00a\\xB8T\\xCC\\xA9\\v\\xD4n\\x00\\x95\\xD4\\x015\\xF6N\\xAD7\\x81@K\\x13%7\\f\\x0F\\xE1\\x83\\xB0\\xCE@D\\x9D\\x819\\x8C}\\xB4\\xC9\\xC6\\x8F\\x9E\\x8D~\\xA0|\\xF7\\xA3\\x1ED\\x983\\x8F\\x17\\x90\\xF2\\xD09FA~\\x18\\xC0\\x12\\xC7cM\\x8C\\xF4\\x89\\xF1\\xA1\\xB1!\\xF2f\\xAC38\\xD9\\x15s\\xBBY0\\xDF\\xB4A\\xA6\\x9D\\x819\\x94>\\xA0DZ\\x9F\\xCD4d\\xCB\\x19\\xBD\\xE7\\x99pJ\\xA8\\x1E\\xFB\\\\\\xB7\\xC7\\a\\x05\\xFA\\x8A\\xC9\\xE2\\xFA\\xCC\\xC0\\xBD\\xCE\\xA8i\\xC9\\xA40\\x17\\xB0\\xE9\\x03\\xAAf\\xE6]~\\xF4\\x03\\x92\\xBA\\x9Fk\\xF7\\t3\\x8E\\xC0\\t#\\x1F\\x00(Y~\\x8C\\x9D\\x81$\\xD1Y3\\xE6\\x803\\xCD\\x9638\\xD9\\x15\\xF3\\xBB\\xBAd\\xBEi\\x83K\\x9D\\x81\\x94J\\x1FVR\\xFC\\xA8*t\\x16\\x9B\\x88\\xC4\\xE4\\xE7\\xF2 p\\xF2\\xA3\\x92\\xCACt\\x9F\\x96\\x02\\x14\\xBDV\\xFD=\\xBF\\xBD\\x16\\xE0\\x91\\xC1\\x15\\xE6)C\\x18\\x9Bl\\x99\\x87&\\xBBb`\\b\\x9D\\xF9\\xA6\\r\\x86\\xD0\\x99<\\xC8\\xCEH\\b\\xBD\\x0F\\x1Ct?\\xAA\\xC7I('\\x1DE\\x18\\xA8u[\\xEF\\xF2\\xC2@\\xB2'\\f\\x88S\\xC2d\\xB4!^\\xC2\\x81\\xB6\\xF8\\x8E\\xA5\\xA9\\xD8\\x86\\xF9]\\xDD0\\x97\\x87e\\x1F\\x95\\xF4\\x99\\xD9\\xF4\\xB9n\\xBCk$F\\xABv?M=2M}\\xEA\\x03\\xF7\\xFCX;k\\x02\\xF5+\\x016\\xCA\\xC3\\xD5a\\xB3TR_\\x80~\\x006\\f\\x88\\xDF0\\x1AYg \\xD6\\x15sB\\xF63\\xB0\\xF1\\xC3g\\x85\\xB9L\\xBB9\\xAE\\xF5~y? \\xF3x\\x01i\\\"\\x8C\\x02\\xEF\\xF2\\xE8\\a\\x00apV\\x8D\\x81\\a\\x8F\\xC2m\\xAC\\xC6\\xC4C\\xF8\\xC4\\xA8\\x9B\\x91\\xF9\\x8B\\xB6+\\xA5\\rcC\\x99\\x18._\\x18\\xF5\\xBD\\xF1\\xA3\\xBFm\\xDD\\x8F\\x96\\xF7\\xEE\\x90\\x92\\x98V\\x8B\\xE9\\xE3-\\xEA}\\aRJ\\xEA!\\x18\\x97\\xE1R\\xAF\\x0E\\xA9\\x18\\x97\\xC7b\\xF3\\xC2i\\xF8\\x8A\\xF0\\x00\\xF8V\\x03\\xDE\\xA6%\\x93\\bHP\\xA5\\xCF#\\xB5\\xDDY\\x03\\xDE\\xE5\\x93\\x1F\\xAEqh\\xC6\\x11p\\eo\\xA6\\xA6\\x91\\x86\\x9B\\x80Vb\\xC3\\xAC>\\x0E\\x1E\\xFAg\\xE6\\xB6?1f\\x7F\\xC9\\x9C\\x1092Z~\\xEC\\xC37>3\\xA5\\x8F\\x9AV\\xB9\\xFD\\xC7\\xD8Sf\\xB5\\xC7\\x92\\xC6\\x9D\\v86y\\xDC\\xB9\\x80C\\xD3\\xE0\\a\\x8E\\xAC\\xAF\\xB7\\xAA\\xB2>3\\x97\\xBF\\r\\xF3\\x17m\\x16\\xD9\\xC4\\f\\x91G\\xE0P\\xE4\\xC8(0\\xFA\\xA9\\at\\xF4\\xC8\\x8B\\xA6\\x81\\x7F\\xCAR\\xF8\\xFD\\xE0\\x8C\\x02Z\\xCC\\xFA\\\\\\xEF\\xC2\\xA4\\xF9\\xE8\\x7F\\x9C3\\xEF\\xBAC\\xE4\\xEF\\xF2s\\xE4zi9\\xA6Vb\\xC3\\xDCn\\x16\\f\\x18\\xEA\\x8C\\xC6:2z<\\xF6\\xD1\\xE3\\x8D\\x1F\\x98h\\xE9\\x03\\xE5E\\x00\\x9Bv\\xF5\\xC9\\x0F\\x9B.;`z\\xDEy\\x17\\xF3\\xB8 @\\x11 \\xEA9@\\x14\\x9D\\x1E\\xA2\\xE8\\xB8PtZ\\xDAkd\\xC0YgX}a4\\xA2\\xB1\\xCF\\xF3\\xDE\\xDD\\xF8ydk\\xCC\\x8D\\x81\\xE2\\a\\x80\\xD4\\x90\\x01\\xA8w3\\x00H=763\\xD2\\xA7E\\x9E\\xC8\\x153\\xC4\\xE7\\f`\\x85\\xD1{\\x87\\\"\\xF7\\x00\\xCE;\\xD6\\xDE\\a\\x06\\xE7Z\\xA3\\x19\\xD4\\x9A\\x18\\xB5\\xB1\\xF1\\xA3\\xD3\\xE9~\\x86\\xF2\\xCE\\xA8\\x87\\xE3\\xA9\\xF7\\x8F\\xF7\\xDB\\x12\\xFA\\xE1c\\x8C\\x0ER\\x12U\\xB8\\x13lY\\xDC\\x83-T\\xAF\\xE4f\\x1A\\xEAf\\x9CF\\xD3\\xC6\\xC7ogX\\xD5\\x17\\x00X+\\x02z\\xB6\\xF91\\xF6\\x86\\r8!\\xDC\\x06\\x9C0\\xA9\\x06\\xBC\\xCB\\x8B\\x9F\\b\\b3\\xC7\\x876\\xB6\\f\\x94\\xEF\\xA3U\\xFE\\x84\\xC8\\x91\\xF9\\x01\\xCB>w\\xC0\\x8B>\\x17\\xF0&\\x13\\xA3S\\xDC\\xF8\\x19\\xBEh\\fx\\xF9\\xD4\\xE7\\xDA\\xF2\\e\\xBC\\xE3\\x9E\\x86\\x9D\\xF7\\x8BT\\xC5\\x1D\\xFEmM\\xF3\\x01@\\xD4#\\t\\x8CT\\x85\\x001\\x9C\\xF4\\x10\\xC3\\xE1\\xE5\\x91?6/\\x88\\xD5\\xF9\\x19\\xD8\\xF4\\x89\\xD2\\x13\\xA3\\xC0\\xE8g\\x1E\\x820\\n\\x1C\\xCA^\\x9B#\\x90\\xFC0\\x80\\r\\xAFZ\\x85\\x81\\xF9zU\\x11\\xAD\\xC6P\\x89\\x1A-\\xB6\\x9Car\\xC3\\xFC\\xAE.\\x99o\\xDA \\xD3\\xC2h\\xACR\\xA60\\n\\x8C}X\\xD5\\xC0\\x88\\xC4\\xEE\\av%\\xC4\\xC1\\xB4\\x94w\\xE6\\x02\\xBC\\xBC\\xF7Q\\xD3R\\x15\\xFD\\xE8\\xC7\\xBBD7\\x9B\\x8E:\\xD14\\xABG\\x06\\xE3\\x02\\xD2\\x19Q\\xFF\\xDB)\\xA2\\xFD!j\\x8B\\v#\\x97\\xFD\\xEB\\x82\\x03\\x85\\x01\\xA0\\xF7Q\\xE0\\xD8\\x10@\\x82\\x03\\xC5\\x0F\\x00'\\x0F!\\x02'\\fa\\x06\\xDC\\x0F\\x8CB\\x9C@C?v\\x86\\xDB\\x15F%-\\x19u\\xD3\\x19\\xF5\\xB0d\\xFE\\xD2\\aVa`\\b\\x85\\xE1\\xC1\\xF5>p\\xD0\\xFD\\xFC\\xCA\\v\\x93\\xFA<^[\\x1E\\x84\\x01\\x03.\\f\\x06\\x97\\x18\\xF7\\x13\\x93\\x15'\\x17\\x13\\xE3\\vq\\xE7\\xF8n\\x86\\xDB\\xA1\\xAA\\xA8\\xD3\\x19\\xE9\\x03/\\x9ElL\\t\\xFB\\xE0Q\\xFC+\\x88\\xE5q\\x95i\\xC4/J\\x9CF\\x02\\xB0h\\x04\\xB0a\\x04N\\x18H\\x03N\\x0Ew\\xCB\\xCCYIy 7\\xCC\\xEDf\\xC1|\\xD3\\x067\\n\\xC3\\xB1\\xF6><\\xF9\\xB1\\xCF\\xFCE\\x03\\xE0\\xD8\\\\S\\x1F\\xD0s,\\xC4\\b`y7\\xF9\\xE1g\\x8F\\x01T\\x7F5L@\\x8AnP\\x15u\\xA6&\\x12\\x03G\\x91\\xE2\\xFAyH\\x91\\xCB\\x91J\\x1A\\xC2\\xD9|%\\x86c\\xA9\\xFAvr\\x9D\\xA6|\\x90a\\xA0\\xF4\\x01\\xE0\\x84!\\f@\\xF2\\xC3\\xC0\\xA1!\\\\\\x9D\\x13\\x83~\\xE0O\\xDA\\x9D\\\\\\xB0G\\x81;0\\xBB\\xCE\\xF0\\xBC\\v#1l\\x19\\x8D\\xAC3f\\x7F\\xC9\\x9C\\x1C\\xB93q\\r\\f\\xEE\\\"\\xF3S\\x82\\xAD\\x9D\\x89\\xBB\\xA9\\xCF\\xE3\\xF7\\xDC\\x1F\\xA4\\xE4L\\x9A\\x0F\\x98\\x86\\x92\\xC2\\xA0i)\\x7F=\\xB8\\x01/\\xBF\\x1A\\x13\\xAAm\\x8C;\\xFC\\xBD\\xA7\\xC8cJ\\xA9\\x0F\\x1E\\xE9\\x8B\\x94\\x87\\xB8J\\xE41.\\x8C\\xDCm\\x80\\x87(\\xDA\\x0Fd\\xBD\\xAB\\xEA~\\x01\\x9Ci\\x00\\xF6\\x89\\xC0\\xB1!\\\\\\xB1\\x96&\\aS\\xEA\\x8C\\xA6\\x7F,\\n\\x17&\\n\\e\\xD3\\xC6\\x84\\f\\xCC\\xE1\\x13s\\xBBY0`\\xA834\\xC8\\xCA\\xD0 GFn\\xF7>\\x8F\\x88\\x19\\xB3\\xBE\\x00T|<V\\xCFNzj*rI\\x9E!\\x15W\\xE2Mt\\\\\\x89\\xC1\\xF9\\xC4\\xF8\\\\X\\x8B/\\x96\\xDF0\\\\\\xBE00\\x87a\\xB4/\\xC62\\xA6\\xD1BJ\\x87\\\"\\xF7&|\\x03w\\x80\\xF4L\\xE24<\\xE9\\xD4g\\xB5`\\x1A'/hx\\x9E\\xFF\\x00\\xE5b\\xCF\\xD3\\xE7%\\xFB)\\x00\\x00\\x00\\x00IEND\\xAEB`\\x82\""
      ]
     },
     "metadata": {},
     "output_type": "display_data"
    },
    {
     "name": "stdout",
     "output_type": "stream",
     "text": [
      "周期的になるまで6ステップ\n",
      "周期450\n"
     ]
    }
   ],
   "source": [
    "automaton(135,3)"
   ]
  },
  {
   "cell_type": "code",
   "execution_count": null,
   "metadata": {
    "collapsed": true
   },
   "outputs": [],
   "source": []
  },
  {
   "cell_type": "code",
   "execution_count": null,
   "metadata": {
    "collapsed": true
   },
   "outputs": [],
   "source": []
  },
  {
   "cell_type": "code",
   "execution_count": null,
   "metadata": {
    "collapsed": true
   },
   "outputs": [],
   "source": []
  },
  {
   "cell_type": "code",
   "execution_count": null,
   "metadata": {
    "collapsed": true
   },
   "outputs": [],
   "source": []
  },
  {
   "cell_type": "code",
   "execution_count": null,
   "metadata": {
    "collapsed": true
   },
   "outputs": [],
   "source": []
  },
  {
   "cell_type": "code",
   "execution_count": null,
   "metadata": {
    "collapsed": true
   },
   "outputs": [],
   "source": []
  },
  {
   "cell_type": "code",
   "execution_count": null,
   "metadata": {
    "collapsed": true
   },
   "outputs": [],
   "source": []
  },
  {
   "cell_type": "code",
   "execution_count": null,
   "metadata": {
    "collapsed": true
   },
   "outputs": [],
   "source": []
  },
  {
   "cell_type": "code",
   "execution_count": null,
   "metadata": {
    "collapsed": true
   },
   "outputs": [],
   "source": []
  },
  {
   "cell_type": "code",
   "execution_count": null,
   "metadata": {
    "collapsed": true
   },
   "outputs": [],
   "source": []
  },
  {
   "cell_type": "code",
   "execution_count": null,
   "metadata": {
    "collapsed": true
   },
   "outputs": [],
   "source": []
  }
 ],
 "metadata": {
  "kernelspec": {
   "display_name": "Ruby 2.4.0",
   "language": "ruby",
   "name": "ruby"
  },
  "language_info": {
   "file_extension": ".rb",
   "mimetype": "application/x-ruby",
   "name": "ruby",
   "version": "2.4.0"
  }
 },
 "nbformat": 4,
 "nbformat_minor": 2
}
